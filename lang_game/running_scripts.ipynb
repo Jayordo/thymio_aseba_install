{
 "cells": [
  {
   "cell_type": "code",
   "execution_count": 1,
   "outputs": [],
   "source": [
    "%load_ext autoreload\n",
    "%autoreload 2"
   ],
   "metadata": {
    "collapsed": false
   }
  },
  {
   "cell_type": "code",
   "execution_count": 2,
   "outputs": [
    {
     "name": "stdout",
     "output_type": "stream",
     "text": [
      "0.0*1\n",
      "\n",
      "t-plus 10\n",
      "0.0*1\n",
      "\n",
      "t-plus 9\n",
      "0.0*1\n",
      "\n",
      "t-plus 8\n",
      "0.07202510594124212*1\n",
      "\n",
      "t-plus 7\n",
      "0.0*1\n",
      "\n",
      "t-plus 6\n",
      "0.12936712671860262*1\n",
      "\n",
      "t-plus 5\n",
      "0.12806276868814906*1\n",
      "\n",
      "t-plus 4\n",
      "0.0*1\n",
      "\n",
      "t-plus 3\n",
      "0.3773944328055757*1\n",
      "0.06625915911453566*1\n",
      "\n",
      "t-plus 2\n",
      "0.0*1\n",
      "\n",
      "t-plus 1\n"
     ]
    }
   ],
   "source": [
    "from game import *\n",
    "lg = Game(10)\n",
    "timeout = 10\n",
    "while timeout > 0:\n",
    "  lg.play_game_with_two_agents(*lg.select_two_random_agents())\n",
    "  print(f\"\\nt-plus {timeout}\")\n",
    "  # for robot in lg.robots:\n",
    "    # known_word_pairs = robot.known_word_pair_scores.items()\n",
    "    # print(len(known_word_pairs))\n",
    "    # print(f\"\\n{robot.name}\\n{known_word_pairs}\")\n",
    "    # print(f\"\\n{robot.name}\")\n",
    "    # print(f\"known tokens:{len(robot.known_tokens)}\")\n",
    "    # print(f\"known suffixes:{len(robot.known_suffixes)}\")\n",
    "  timeout -= 1"
   ],
   "metadata": {
    "collapsed": false
   }
  },
  {
   "cell_type": "code",
   "execution_count": 14,
   "outputs": [
    {
     "data": {
      "text/plain": "         token label                                     rep vec suffix label  \\\n0    [1, 0, 1, 0, 0]    [0.0786285925453476, 0.3816965727662337]    [1, 1, 1]   \n1    [1, 1, 0, 0, 0]    [0.1440851716552799, 0.6051352645307896]    [1, 1, 1]   \n2    [1, 0, 1, 0, 0]    [0.0786285925453476, 0.3816965727662337]    [1, 0, 1]   \n3    [1, 1, 0, 0, 0]    [0.1440851716552799, 0.6051352645307896]    [1, 0, 1]   \n4    [0, 1, 0, 0, 0]  [0.007560011027210711, 0.9992514842882512]    [1, 1, 1]   \n..               ...                                         ...          ...   \n251  [0, 1, 0, 1, 0]   [0.20309721167460038, 0.2602193889797211]    [0, 1, 1]   \n252  [0, 1, 0, 1, 0]   [0.20309721167460038, 0.2602193889797211]    [0, 1, 0]   \n253  [0, 1, 0, 1, 0]   [0.20309721167460038, 0.2602193889797211]    [1, 1, 0]   \n254  [0, 1, 0, 1, 0]   [0.20309721167460038, 0.2602193889797211]    [1, 0, 0]   \n255  [0, 1, 0, 1, 0]   [0.20309721167460038, 0.2602193889797211]    [0, 0, 1]   \n\n                                          mod vec  \\\n0     [-0.07569485780847307, 0.11207426593456171]   \n1     [-0.07569485780847307, 0.11207426593456171]   \n2       [0.16833806374323856, -0.547660754196347]   \n3       [0.16833806374323856, -0.547660754196347]   \n4     [-0.07569485780847307, 0.11207426593456171]   \n..                                            ...   \n251  [-0.30731581055729096, 0.017107419119769318]   \n252   [-0.19587712540192925, -0.5292596757418953]   \n253    [0.08359802280432116, -0.2591551450218995]   \n254  [0.06305656701280149, -0.014407844372116507]   \n255      [0.4769602815331674, 0.4775296406204965]   \n\n                                    word pair vec  score  \n0      [0.002933734736874527, 0.4937708387007954]      2  \n1       [0.06839031384680683, 0.7172095304653513]      2  \n2                      [0.24696665628858616, 0.0]      1  \n3      [0.31242323539851846, 0.05747451033444262]      2  \n4                                      [0.0, 1.0]      1  \n..                                            ...    ...  \n251                     [0.0, 0.2773268080994904]      1  \n252                   [0.007220086272671122, 0.0]      1  \n253  [0.28669523447892153, 0.0010642439578215646]      1  \n254    [0.26615377868740187, 0.24581154460760457]      1  \n255      [0.6800574932077678, 0.7377490296002176]      1  \n\n[256 rows x 6 columns]",
      "text/html": "<div>\n<style scoped>\n    .dataframe tbody tr th:only-of-type {\n        vertical-align: middle;\n    }\n\n    .dataframe tbody tr th {\n        vertical-align: top;\n    }\n\n    .dataframe thead th {\n        text-align: right;\n    }\n</style>\n<table border=\"1\" class=\"dataframe\">\n  <thead>\n    <tr style=\"text-align: right;\">\n      <th></th>\n      <th>token label</th>\n      <th>rep vec</th>\n      <th>suffix label</th>\n      <th>mod vec</th>\n      <th>word pair vec</th>\n      <th>score</th>\n    </tr>\n  </thead>\n  <tbody>\n    <tr>\n      <th>0</th>\n      <td>[1, 0, 1, 0, 0]</td>\n      <td>[0.0786285925453476, 0.3816965727662337]</td>\n      <td>[1, 1, 1]</td>\n      <td>[-0.07569485780847307, 0.11207426593456171]</td>\n      <td>[0.002933734736874527, 0.4937708387007954]</td>\n      <td>2</td>\n    </tr>\n    <tr>\n      <th>1</th>\n      <td>[1, 1, 0, 0, 0]</td>\n      <td>[0.1440851716552799, 0.6051352645307896]</td>\n      <td>[1, 1, 1]</td>\n      <td>[-0.07569485780847307, 0.11207426593456171]</td>\n      <td>[0.06839031384680683, 0.7172095304653513]</td>\n      <td>2</td>\n    </tr>\n    <tr>\n      <th>2</th>\n      <td>[1, 0, 1, 0, 0]</td>\n      <td>[0.0786285925453476, 0.3816965727662337]</td>\n      <td>[1, 0, 1]</td>\n      <td>[0.16833806374323856, -0.547660754196347]</td>\n      <td>[0.24696665628858616, 0.0]</td>\n      <td>1</td>\n    </tr>\n    <tr>\n      <th>3</th>\n      <td>[1, 1, 0, 0, 0]</td>\n      <td>[0.1440851716552799, 0.6051352645307896]</td>\n      <td>[1, 0, 1]</td>\n      <td>[0.16833806374323856, -0.547660754196347]</td>\n      <td>[0.31242323539851846, 0.05747451033444262]</td>\n      <td>2</td>\n    </tr>\n    <tr>\n      <th>4</th>\n      <td>[0, 1, 0, 0, 0]</td>\n      <td>[0.007560011027210711, 0.9992514842882512]</td>\n      <td>[1, 1, 1]</td>\n      <td>[-0.07569485780847307, 0.11207426593456171]</td>\n      <td>[0.0, 1.0]</td>\n      <td>1</td>\n    </tr>\n    <tr>\n      <th>...</th>\n      <td>...</td>\n      <td>...</td>\n      <td>...</td>\n      <td>...</td>\n      <td>...</td>\n      <td>...</td>\n    </tr>\n    <tr>\n      <th>251</th>\n      <td>[0, 1, 0, 1, 0]</td>\n      <td>[0.20309721167460038, 0.2602193889797211]</td>\n      <td>[0, 1, 1]</td>\n      <td>[-0.30731581055729096, 0.017107419119769318]</td>\n      <td>[0.0, 0.2773268080994904]</td>\n      <td>1</td>\n    </tr>\n    <tr>\n      <th>252</th>\n      <td>[0, 1, 0, 1, 0]</td>\n      <td>[0.20309721167460038, 0.2602193889797211]</td>\n      <td>[0, 1, 0]</td>\n      <td>[-0.19587712540192925, -0.5292596757418953]</td>\n      <td>[0.007220086272671122, 0.0]</td>\n      <td>1</td>\n    </tr>\n    <tr>\n      <th>253</th>\n      <td>[0, 1, 0, 1, 0]</td>\n      <td>[0.20309721167460038, 0.2602193889797211]</td>\n      <td>[1, 1, 0]</td>\n      <td>[0.08359802280432116, -0.2591551450218995]</td>\n      <td>[0.28669523447892153, 0.0010642439578215646]</td>\n      <td>1</td>\n    </tr>\n    <tr>\n      <th>254</th>\n      <td>[0, 1, 0, 1, 0]</td>\n      <td>[0.20309721167460038, 0.2602193889797211]</td>\n      <td>[1, 0, 0]</td>\n      <td>[0.06305656701280149, -0.014407844372116507]</td>\n      <td>[0.26615377868740187, 0.24581154460760457]</td>\n      <td>1</td>\n    </tr>\n    <tr>\n      <th>255</th>\n      <td>[0, 1, 0, 1, 0]</td>\n      <td>[0.20309721167460038, 0.2602193889797211]</td>\n      <td>[0, 0, 1]</td>\n      <td>[0.4769602815331674, 0.4775296406204965]</td>\n      <td>[0.6800574932077678, 0.7377490296002176]</td>\n      <td>1</td>\n    </tr>\n  </tbody>\n</table>\n<p>256 rows × 6 columns</p>\n</div>"
     },
     "execution_count": 14,
     "metadata": {},
     "output_type": "execute_result"
    }
   ],
   "source": [
    "import pandas as pd\n",
    "rob = lg.robots[1]\n",
    "d=rob.known_word_pair_scores\n",
    "df = pd.DataFrame([(key.token.label,key.token.rep_vec,key.suffix.label,key.suffix.mod_vec,key.rep_vec,val) for key,val in d.items()])\n",
    "df.columns = [\"token label\",\"rep vec\",\"suffix label\",\"mod vec\",\"word pair vec\",\"score\"]\n",
    "df\n",
    "# df2= pd.DataFrame([(token.label,token.rep_vec) for token in rob.known_tokens])\n",
    "# df2"
   ],
   "metadata": {
    "collapsed": false
   }
  },
  {
   "cell_type": "code",
   "execution_count": 15,
   "outputs": [
    {
     "name": "stdout",
     "output_type": "stream",
     "text": [
      "{'amount_of_interactions': 195, 'agreed': 23, 'disagreed': 76, 'knew_only_token': 0, 'knew_only_suffix': 8, 'knew_nothing': 4, 'no_known_words': 0, 'words_selected_for_communication': 84, 'tokens_added': 148, 'suffixes_added': 140, 'deleted_tokens': 116, 'deleted_suffixes': 132}\n",
      "[label:[1, 0, 1, 0, 0] rep_vec: [0.07862859 0.38169657], label:[1, 1, 0, 0, 0] rep_vec: [0.14408517 0.60513526], label:[0, 1, 0, 0, 0] rep_vec: [0.00756001 0.99925148], label:[1, 1, 0, 1, 0] rep_vec: [0.83728466 0.65863395], label:[0, 0, 1, 1, 1] rep_vec: [0.68548954 0.60899014], label:[0, 0, 0, 1, 1] rep_vec: [0.55691235 0.32313569], label:[1, 1, 1, 0, 0] rep_vec: [0.19686379 0.91436557], label:[1, 0, 0, 1, 1] rep_vec: [0.23490431 0.85975714], label:[1, 0, 0, 0, 1] rep_vec: [0.7024898 0.6863255], label:[1, 0, 0, 1, 0] rep_vec: [0.97625381 0.25840921], label:[1, 0, 1, 0, 1] rep_vec: [0.52413476 0.5253839 ], label:[0, 0, 1, 1, 0] rep_vec: [0.13876135 0.96136362], label:[0, 1, 1, 1, 0] rep_vec: [0.95272841 0.6005961 ], label:[1, 0, 0, 0, 0] rep_vec: [0.1948918  0.37767758], label:[0, 0, 1, 0, 1] rep_vec: [0.01073972 0.16680824], label:[1, 1, 1, 1, 1] rep_vec: [0.64238639 0.69510244], label:[0, 0, 1, 0, 0] rep_vec: [0.85049649 0.71721744], label:[0, 1, 1, 1, 1] rep_vec: [0.28119675 0.99420325], label:[1, 0, 1, 1, 0] rep_vec: [0.88209701 0.77536162], label:[0, 0, 0, 0, 1] rep_vec: [0.27902233 0.64543374], label:[1, 1, 0, 1, 1] rep_vec: [0.03203103 0.89532276], label:[1, 1, 0, 0, 1] rep_vec: [0.14070452 0.33819531], label:[0, 1, 0, 1, 1] rep_vec: [0.73812031 0.89078647], label:[1, 1, 1, 0, 1] rep_vec: [0.72189567 0.47082994], label:[0, 0, 0, 0, 0] rep_vec: [0.45872068 0.00326529], label:[0, 1, 0, 0, 1] rep_vec: [0.27678394 0.79648561], label:[1, 0, 1, 1, 1] rep_vec: [0.437506   0.82528198], label:[0, 0, 0, 1, 0] rep_vec: [0.50324804 0.12661893], label:[0, 1, 1, 0, 0] rep_vec: [0.06523418 0.14595713], label:[0, 1, 1, 0, 1] rep_vec: [0.22131097 0.1613684 ], label:[1, 1, 1, 1, 0] rep_vec: [0.80718497 0.76211028], label:[0, 1, 0, 1, 0] rep_vec: [0.20309721 0.26021939]]\n",
      "32\n"
     ]
    }
   ],
   "source": [
    "rob = lg.robots[1]\n",
    "print(rob.log)\n",
    "print(rob.known_tokens)\n",
    "print(len(rob.known_tokens))"
   ],
   "metadata": {
    "collapsed": false
   }
  }
 ],
 "metadata": {
  "kernelspec": {
   "display_name": "Python 3",
   "language": "python",
   "name": "python3"
  },
  "language_info": {
   "codemirror_mode": {
    "name": "ipython",
    "version": 2
   },
   "file_extension": ".py",
   "mimetype": "text/x-python",
   "name": "python",
   "nbconvert_exporter": "python",
   "pygments_lexer": "ipython2",
   "version": "2.7.6"
  }
 },
 "nbformat": 4,
 "nbformat_minor": 0
}
