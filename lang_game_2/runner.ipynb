{
 "cells": [
  {
   "cell_type": "code",
   "execution_count": 29,
   "metadata": {
    "collapsed": true,
    "ExecuteTime": {
     "end_time": "2023-10-13T13:19:55.671800800Z",
     "start_time": "2023-10-13T13:19:55.226797100Z"
    }
   },
   "outputs": [
    {
     "name": "stdout",
     "output_type": "stream",
     "text": [
      "The autoreload extension is already loaded. To reload it, use:\n",
      "  %reload_ext autoreload\n"
     ]
    }
   ],
   "source": [
    "%load_ext autoreload\n",
    "%autoreload 2"
   ]
  },
  {
   "cell_type": "code",
   "execution_count": 30,
   "outputs": [],
   "source": [
    "from game_analysis import *"
   ],
   "metadata": {
    "collapsed": false,
    "ExecuteTime": {
     "end_time": "2023-10-13T13:19:55.820794900Z",
     "start_time": "2023-10-13T13:19:55.681796500Z"
    }
   }
  },
  {
   "cell_type": "code",
   "execution_count": 31,
   "outputs": [
    {
     "name": "stdout",
     "output_type": "stream",
     "text": [
      "616\n"
     ]
    }
   ],
   "source": [
    "timeout=1000\n",
    "amount_of_agents=2\n",
    "food_found = 0\n",
    "while food_found < 0.4*timeout:\n",
    "    g=Game(timeout,amount_of_agents)\n",
    "    g.game_loop()\n",
    "    food_found=g.robots[1].logs[\"food_found\"]\n",
    "    print(food_found)"
   ],
   "metadata": {
    "collapsed": false,
    "ExecuteTime": {
     "end_time": "2023-10-13T13:19:56.344798100Z",
     "start_time": "2023-10-13T13:19:55.822797700Z"
    }
   }
  },
  {
   "cell_type": "code",
   "execution_count": 32,
   "outputs": [],
   "source": [
    "a = GameAnalysis(g)    \n",
    "\n",
    "robdf = a.print_data()"
   ],
   "metadata": {
    "collapsed": false,
    "ExecuteTime": {
     "end_time": "2023-10-13T13:19:56.485797600Z",
     "start_time": "2023-10-13T13:19:56.346800400Z"
    }
   }
  },
  {
   "cell_type": "code",
   "execution_count": 33,
   "outputs": [
    {
     "data": {
      "text/plain": "      food found  interactions had\nname                              \nA              0              1000\nB            616              1000",
      "text/html": "<div>\n<style scoped>\n    .dataframe tbody tr th:only-of-type {\n        vertical-align: middle;\n    }\n\n    .dataframe tbody tr th {\n        vertical-align: top;\n    }\n\n    .dataframe thead th {\n        text-align: right;\n    }\n</style>\n<table border=\"1\" class=\"dataframe\">\n  <thead>\n    <tr style=\"text-align: right;\">\n      <th></th>\n      <th>food found</th>\n      <th>interactions had</th>\n    </tr>\n    <tr>\n      <th>name</th>\n      <th></th>\n      <th></th>\n    </tr>\n  </thead>\n  <tbody>\n    <tr>\n      <th>A</th>\n      <td>0</td>\n      <td>1000</td>\n    </tr>\n    <tr>\n      <th>B</th>\n      <td>616</td>\n      <td>1000</td>\n    </tr>\n  </tbody>\n</table>\n</div>"
     },
     "execution_count": 33,
     "metadata": {},
     "output_type": "execute_result"
    }
   ],
   "source": [
    "robdf"
   ],
   "metadata": {
    "collapsed": false,
    "ExecuteTime": {
     "end_time": "2023-10-13T13:19:56.631797900Z",
     "start_time": "2023-10-13T13:19:56.488797600Z"
    }
   }
  },
  {
   "cell_type": "code",
   "execution_count": 34,
   "outputs": [],
   "source": [
    "# for i in range(-1,-20,-1):\n",
    "#     a.plot_robot_paths(i-1,i)\n",
    "# a.plot_robot_paths()"
   ],
   "metadata": {
    "collapsed": false,
    "ExecuteTime": {
     "end_time": "2023-10-13T13:19:56.793796200Z",
     "start_time": "2023-10-13T13:19:56.631797900Z"
    }
   }
  },
  {
   "cell_type": "code",
   "execution_count": 35,
   "outputs": [
    {
     "data": {
      "text/plain": "                                                     0  \\\n0    [(1, 7), (1, 1), (1, 9), (1, 9), (1, 9), (1, 9...   \n1    [(0, 7), (1, 6), (1, 1), (0, 4), (0, 2), (1, 4...   \n2    [(0, 6), (0, 4), (1, 2), (0, 9), (1, 1), (1, 6...   \n3    [(1, 8), (1, 4), (0, 6), (0, 7), (1, 4), (0, 6...   \n4    [(1, 1), (0, 4), (1, 4), (1, 1), (0, 4), (1, 4...   \n..                                                 ...   \n995  [(0, 5), (0, 9), (1, 4), (0, 2), (0, 8), (0, 2...   \n996                   [(0, 9), (1, 4), (0, 2), (0, 8)]   \n997                   [(0, 9), (1, 4), (0, 2), (0, 8)]   \n998  [(0, 5), (0, 9), (1, 4), (0, 2), (0, 8), (0, 2...   \n999  [(0, 5), (0, 9), (1, 4), (0, 2), (0, 8), (0, 2...   \n\n                                                     1      2  \n0    [(1, 4), (1, 4), (0, 7), (0, 7), (0, 7), (0, 7...  False  \n1    [(0, 3), (0, 1), (1, 5), (1, 9), (1, 7), (1, 9...  False  \n2    [(0, 8), (0, 1), (1, 9), (1, 7), (0, 5), (0, 4...  False  \n3    [(0, 8), (1, 6), (0, 1), (0, 5), (1, 6), (0, 1...  False  \n4    [(1, 2), (0, 4), (0, 7), (1, 2), (0, 4), (0, 7...  False  \n..                                                 ...    ...  \n995  [(0, 6), (1, 5), (0, 5), (0, 5), (0, 8), (0, 5...   True  \n996                   [(1, 5), (0, 5), (0, 5), (0, 8)]   True  \n997                   [(1, 5), (0, 5), (0, 5), (0, 8)]   True  \n998  [(0, 6), (1, 5), (0, 5), (0, 5), (0, 8), (0, 5...   True  \n999  [(0, 6), (1, 5), (0, 5), (0, 5), (0, 8), (0, 5...   True  \n\n[1000 rows x 3 columns]",
      "text/html": "<div>\n<style scoped>\n    .dataframe tbody tr th:only-of-type {\n        vertical-align: middle;\n    }\n\n    .dataframe tbody tr th {\n        vertical-align: top;\n    }\n\n    .dataframe thead th {\n        text-align: right;\n    }\n</style>\n<table border=\"1\" class=\"dataframe\">\n  <thead>\n    <tr style=\"text-align: right;\">\n      <th></th>\n      <th>0</th>\n      <th>1</th>\n      <th>2</th>\n    </tr>\n  </thead>\n  <tbody>\n    <tr>\n      <th>0</th>\n      <td>[(1, 7), (1, 1), (1, 9), (1, 9), (1, 9), (1, 9...</td>\n      <td>[(1, 4), (1, 4), (0, 7), (0, 7), (0, 7), (0, 7...</td>\n      <td>False</td>\n    </tr>\n    <tr>\n      <th>1</th>\n      <td>[(0, 7), (1, 6), (1, 1), (0, 4), (0, 2), (1, 4...</td>\n      <td>[(0, 3), (0, 1), (1, 5), (1, 9), (1, 7), (1, 9...</td>\n      <td>False</td>\n    </tr>\n    <tr>\n      <th>2</th>\n      <td>[(0, 6), (0, 4), (1, 2), (0, 9), (1, 1), (1, 6...</td>\n      <td>[(0, 8), (0, 1), (1, 9), (1, 7), (0, 5), (0, 4...</td>\n      <td>False</td>\n    </tr>\n    <tr>\n      <th>3</th>\n      <td>[(1, 8), (1, 4), (0, 6), (0, 7), (1, 4), (0, 6...</td>\n      <td>[(0, 8), (1, 6), (0, 1), (0, 5), (1, 6), (0, 1...</td>\n      <td>False</td>\n    </tr>\n    <tr>\n      <th>4</th>\n      <td>[(1, 1), (0, 4), (1, 4), (1, 1), (0, 4), (1, 4...</td>\n      <td>[(1, 2), (0, 4), (0, 7), (1, 2), (0, 4), (0, 7...</td>\n      <td>False</td>\n    </tr>\n    <tr>\n      <th>...</th>\n      <td>...</td>\n      <td>...</td>\n      <td>...</td>\n    </tr>\n    <tr>\n      <th>995</th>\n      <td>[(0, 5), (0, 9), (1, 4), (0, 2), (0, 8), (0, 2...</td>\n      <td>[(0, 6), (1, 5), (0, 5), (0, 5), (0, 8), (0, 5...</td>\n      <td>True</td>\n    </tr>\n    <tr>\n      <th>996</th>\n      <td>[(0, 9), (1, 4), (0, 2), (0, 8)]</td>\n      <td>[(1, 5), (0, 5), (0, 5), (0, 8)]</td>\n      <td>True</td>\n    </tr>\n    <tr>\n      <th>997</th>\n      <td>[(0, 9), (1, 4), (0, 2), (0, 8)]</td>\n      <td>[(1, 5), (0, 5), (0, 5), (0, 8)]</td>\n      <td>True</td>\n    </tr>\n    <tr>\n      <th>998</th>\n      <td>[(0, 5), (0, 9), (1, 4), (0, 2), (0, 8), (0, 2...</td>\n      <td>[(0, 6), (1, 5), (0, 5), (0, 5), (0, 8), (0, 5...</td>\n      <td>True</td>\n    </tr>\n    <tr>\n      <th>999</th>\n      <td>[(0, 5), (0, 9), (1, 4), (0, 2), (0, 8), (0, 2...</td>\n      <td>[(0, 6), (1, 5), (0, 5), (0, 5), (0, 8), (0, 5...</td>\n      <td>True</td>\n    </tr>\n  </tbody>\n</table>\n<p>1000 rows × 3 columns</p>\n</div>"
     },
     "execution_count": 35,
     "metadata": {},
     "output_type": "execute_result"
    }
   ],
   "source": [
    "yeet = a.show_instructions()\n",
    "yeet"
   ],
   "metadata": {
    "collapsed": false,
    "ExecuteTime": {
     "end_time": "2023-10-13T13:19:56.922797500Z",
     "start_time": "2023-10-13T13:19:56.773800700Z"
    }
   }
  },
  {
   "cell_type": "code",
   "execution_count": 36,
   "outputs": [
    {
     "data": {
      "text/plain": "   A_input A_action  A_inertia  A_mistakes B_input B_action  B_inertia  \\\n0     (1,)   (0, 5)      873.0         0.0  (0, 5)   (0, 6)        873   \n1   (1, 5)   (0, 5)        0.0         1.0  (0, 5)   (0, 6)        873   \n2   (1, 7)   (1, 9)        0.0         2.0  (1, 9)   (0, 8)          0   \n3   (1, 1)   (1, 8)        0.0         5.0  (1, 8)   (0, 8)          0   \n4   (1, 9)   (1, 3)        0.0         2.0  (1, 3)   (1, 6)          0   \n5   (0, 7)   (0, 2)        0.0         1.0  (0, 2)   (0, 5)       2694   \n6   (1, 4)   (0, 2)     1821.0         0.0  (0, 2)   (0, 5)       2694   \n7   (0, 8)   (0, 2)      873.0         0.0  (0, 2)   (0, 5)       2694   \n8   (1, 6)   (0, 6)        0.0         1.0  (0, 6)   (0, 1)          0   \n9   (1, 8)   (0, 6)        0.0         1.0  (0, 6)   (0, 1)          0   \n10  (0, 4)   (1, 2)        0.0         1.0  (1, 2)   (0, 5)          0   \n11  (0, 2)   (0, 8)     2694.0         0.0  (0, 8)   (0, 8)       2694   \n12  (0, 1)   (0, 8)        0.0         1.0  (0, 8)   (0, 8)       2694   \n13  (0, 6)   (0, 3)        0.0         2.0  (0, 3)   (1, 6)          0   \n14  (1, 2)   (1, 4)        0.0         1.0  (1, 4)   (0, 5)       1866   \n15  (0, 9)   (1, 4)     1836.0         0.0  (1, 4)   (0, 5)       1866   \n16  (0, 3)   (1, 4)        0.0         2.0  (1, 4)   (0, 5)       1866   \n17  (1, 3)   (1, 7)        0.0         2.0  (1, 7)   (1, 8)          0   \n18  (0, 5)   (0, 9)      873.0         0.0  (0, 9)   (1, 5)       1836   \n19    (0,)   (0, 9)      963.0         0.0  (0, 9)   (1, 5)       1836   \n20     NaN      NaN        NaN         NaN  (1, 1)   (1, 3)          0   \n21     NaN      NaN        NaN         NaN  (0, 7)   (0, 1)          0   \n22     NaN      NaN        NaN         NaN  (1, 6)   (0, 3)          0   \n23     NaN      NaN        NaN         NaN  (0, 4)   (1, 1)          0   \n24     NaN      NaN        NaN         NaN  (1, 5)   (0, 8)          0   \n25     NaN      NaN        NaN         NaN  (0, 1)   (1, 4)          0   \n\n    B_mistakes  \n0            0  \n1            0  \n2            2  \n3            1  \n4            3  \n5            0  \n6            0  \n7            0  \n8            2  \n9            2  \n10           1  \n11           0  \n12           0  \n13           2  \n14           0  \n15           0  \n16           0  \n17           2  \n18           0  \n19           0  \n20           5  \n21           1  \n22           1  \n23           1  \n24           1  \n25           1  ",
      "text/html": "<div>\n<style scoped>\n    .dataframe tbody tr th:only-of-type {\n        vertical-align: middle;\n    }\n\n    .dataframe tbody tr th {\n        vertical-align: top;\n    }\n\n    .dataframe thead th {\n        text-align: right;\n    }\n</style>\n<table border=\"1\" class=\"dataframe\">\n  <thead>\n    <tr style=\"text-align: right;\">\n      <th></th>\n      <th>A_input</th>\n      <th>A_action</th>\n      <th>A_inertia</th>\n      <th>A_mistakes</th>\n      <th>B_input</th>\n      <th>B_action</th>\n      <th>B_inertia</th>\n      <th>B_mistakes</th>\n    </tr>\n  </thead>\n  <tbody>\n    <tr>\n      <th>0</th>\n      <td>(1,)</td>\n      <td>(0, 5)</td>\n      <td>873.0</td>\n      <td>0.0</td>\n      <td>(0, 5)</td>\n      <td>(0, 6)</td>\n      <td>873</td>\n      <td>0</td>\n    </tr>\n    <tr>\n      <th>1</th>\n      <td>(1, 5)</td>\n      <td>(0, 5)</td>\n      <td>0.0</td>\n      <td>1.0</td>\n      <td>(0, 5)</td>\n      <td>(0, 6)</td>\n      <td>873</td>\n      <td>0</td>\n    </tr>\n    <tr>\n      <th>2</th>\n      <td>(1, 7)</td>\n      <td>(1, 9)</td>\n      <td>0.0</td>\n      <td>2.0</td>\n      <td>(1, 9)</td>\n      <td>(0, 8)</td>\n      <td>0</td>\n      <td>2</td>\n    </tr>\n    <tr>\n      <th>3</th>\n      <td>(1, 1)</td>\n      <td>(1, 8)</td>\n      <td>0.0</td>\n      <td>5.0</td>\n      <td>(1, 8)</td>\n      <td>(0, 8)</td>\n      <td>0</td>\n      <td>1</td>\n    </tr>\n    <tr>\n      <th>4</th>\n      <td>(1, 9)</td>\n      <td>(1, 3)</td>\n      <td>0.0</td>\n      <td>2.0</td>\n      <td>(1, 3)</td>\n      <td>(1, 6)</td>\n      <td>0</td>\n      <td>3</td>\n    </tr>\n    <tr>\n      <th>5</th>\n      <td>(0, 7)</td>\n      <td>(0, 2)</td>\n      <td>0.0</td>\n      <td>1.0</td>\n      <td>(0, 2)</td>\n      <td>(0, 5)</td>\n      <td>2694</td>\n      <td>0</td>\n    </tr>\n    <tr>\n      <th>6</th>\n      <td>(1, 4)</td>\n      <td>(0, 2)</td>\n      <td>1821.0</td>\n      <td>0.0</td>\n      <td>(0, 2)</td>\n      <td>(0, 5)</td>\n      <td>2694</td>\n      <td>0</td>\n    </tr>\n    <tr>\n      <th>7</th>\n      <td>(0, 8)</td>\n      <td>(0, 2)</td>\n      <td>873.0</td>\n      <td>0.0</td>\n      <td>(0, 2)</td>\n      <td>(0, 5)</td>\n      <td>2694</td>\n      <td>0</td>\n    </tr>\n    <tr>\n      <th>8</th>\n      <td>(1, 6)</td>\n      <td>(0, 6)</td>\n      <td>0.0</td>\n      <td>1.0</td>\n      <td>(0, 6)</td>\n      <td>(0, 1)</td>\n      <td>0</td>\n      <td>2</td>\n    </tr>\n    <tr>\n      <th>9</th>\n      <td>(1, 8)</td>\n      <td>(0, 6)</td>\n      <td>0.0</td>\n      <td>1.0</td>\n      <td>(0, 6)</td>\n      <td>(0, 1)</td>\n      <td>0</td>\n      <td>2</td>\n    </tr>\n    <tr>\n      <th>10</th>\n      <td>(0, 4)</td>\n      <td>(1, 2)</td>\n      <td>0.0</td>\n      <td>1.0</td>\n      <td>(1, 2)</td>\n      <td>(0, 5)</td>\n      <td>0</td>\n      <td>1</td>\n    </tr>\n    <tr>\n      <th>11</th>\n      <td>(0, 2)</td>\n      <td>(0, 8)</td>\n      <td>2694.0</td>\n      <td>0.0</td>\n      <td>(0, 8)</td>\n      <td>(0, 8)</td>\n      <td>2694</td>\n      <td>0</td>\n    </tr>\n    <tr>\n      <th>12</th>\n      <td>(0, 1)</td>\n      <td>(0, 8)</td>\n      <td>0.0</td>\n      <td>1.0</td>\n      <td>(0, 8)</td>\n      <td>(0, 8)</td>\n      <td>2694</td>\n      <td>0</td>\n    </tr>\n    <tr>\n      <th>13</th>\n      <td>(0, 6)</td>\n      <td>(0, 3)</td>\n      <td>0.0</td>\n      <td>2.0</td>\n      <td>(0, 3)</td>\n      <td>(1, 6)</td>\n      <td>0</td>\n      <td>2</td>\n    </tr>\n    <tr>\n      <th>14</th>\n      <td>(1, 2)</td>\n      <td>(1, 4)</td>\n      <td>0.0</td>\n      <td>1.0</td>\n      <td>(1, 4)</td>\n      <td>(0, 5)</td>\n      <td>1866</td>\n      <td>0</td>\n    </tr>\n    <tr>\n      <th>15</th>\n      <td>(0, 9)</td>\n      <td>(1, 4)</td>\n      <td>1836.0</td>\n      <td>0.0</td>\n      <td>(1, 4)</td>\n      <td>(0, 5)</td>\n      <td>1866</td>\n      <td>0</td>\n    </tr>\n    <tr>\n      <th>16</th>\n      <td>(0, 3)</td>\n      <td>(1, 4)</td>\n      <td>0.0</td>\n      <td>2.0</td>\n      <td>(1, 4)</td>\n      <td>(0, 5)</td>\n      <td>1866</td>\n      <td>0</td>\n    </tr>\n    <tr>\n      <th>17</th>\n      <td>(1, 3)</td>\n      <td>(1, 7)</td>\n      <td>0.0</td>\n      <td>2.0</td>\n      <td>(1, 7)</td>\n      <td>(1, 8)</td>\n      <td>0</td>\n      <td>2</td>\n    </tr>\n    <tr>\n      <th>18</th>\n      <td>(0, 5)</td>\n      <td>(0, 9)</td>\n      <td>873.0</td>\n      <td>0.0</td>\n      <td>(0, 9)</td>\n      <td>(1, 5)</td>\n      <td>1836</td>\n      <td>0</td>\n    </tr>\n    <tr>\n      <th>19</th>\n      <td>(0,)</td>\n      <td>(0, 9)</td>\n      <td>963.0</td>\n      <td>0.0</td>\n      <td>(0, 9)</td>\n      <td>(1, 5)</td>\n      <td>1836</td>\n      <td>0</td>\n    </tr>\n    <tr>\n      <th>20</th>\n      <td>NaN</td>\n      <td>NaN</td>\n      <td>NaN</td>\n      <td>NaN</td>\n      <td>(1, 1)</td>\n      <td>(1, 3)</td>\n      <td>0</td>\n      <td>5</td>\n    </tr>\n    <tr>\n      <th>21</th>\n      <td>NaN</td>\n      <td>NaN</td>\n      <td>NaN</td>\n      <td>NaN</td>\n      <td>(0, 7)</td>\n      <td>(0, 1)</td>\n      <td>0</td>\n      <td>1</td>\n    </tr>\n    <tr>\n      <th>22</th>\n      <td>NaN</td>\n      <td>NaN</td>\n      <td>NaN</td>\n      <td>NaN</td>\n      <td>(1, 6)</td>\n      <td>(0, 3)</td>\n      <td>0</td>\n      <td>1</td>\n    </tr>\n    <tr>\n      <th>23</th>\n      <td>NaN</td>\n      <td>NaN</td>\n      <td>NaN</td>\n      <td>NaN</td>\n      <td>(0, 4)</td>\n      <td>(1, 1)</td>\n      <td>0</td>\n      <td>1</td>\n    </tr>\n    <tr>\n      <th>24</th>\n      <td>NaN</td>\n      <td>NaN</td>\n      <td>NaN</td>\n      <td>NaN</td>\n      <td>(1, 5)</td>\n      <td>(0, 8)</td>\n      <td>0</td>\n      <td>1</td>\n    </tr>\n    <tr>\n      <th>25</th>\n      <td>NaN</td>\n      <td>NaN</td>\n      <td>NaN</td>\n      <td>NaN</td>\n      <td>(0, 1)</td>\n      <td>(1, 4)</td>\n      <td>0</td>\n      <td>1</td>\n    </tr>\n  </tbody>\n</table>\n</div>"
     },
     "execution_count": 36,
     "metadata": {},
     "output_type": "execute_result"
    }
   ],
   "source": [
    "requester, fetcher = g.robots\n",
    "df = a.print_vocab_chain(requester, fetcher)\n",
    "df"
   ],
   "metadata": {
    "collapsed": false,
    "ExecuteTime": {
     "end_time": "2023-10-13T13:19:57.108795800Z",
     "start_time": "2023-10-13T13:19:56.923798700Z"
    }
   }
  },
  {
   "cell_type": "code",
   "execution_count": 36,
   "outputs": [],
   "source": [
    "\n",
    "\n"
   ],
   "metadata": {
    "collapsed": false,
    "ExecuteTime": {
     "end_time": "2023-10-13T13:19:57.117794200Z",
     "start_time": "2023-10-13T13:19:57.108795800Z"
    }
   }
  }
 ],
 "metadata": {
  "kernelspec": {
   "display_name": "Python 3",
   "language": "python",
   "name": "python3"
  },
  "language_info": {
   "codemirror_mode": {
    "name": "ipython",
    "version": 2
   },
   "file_extension": ".py",
   "mimetype": "text/x-python",
   "name": "python",
   "nbconvert_exporter": "python",
   "pygments_lexer": "ipython2",
   "version": "2.7.6"
  }
 },
 "nbformat": 4,
 "nbformat_minor": 0
}
